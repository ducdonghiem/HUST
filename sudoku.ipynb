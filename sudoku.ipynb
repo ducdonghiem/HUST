{
  "nbformat": 4,
  "nbformat_minor": 0,
  "metadata": {
    "colab": {
      "provenance": [],
      "mount_file_id": "12NICrzG0DjQ_pfg570lj3cjIIcYEBVXD",
      "authorship_tag": "ABX9TyOu6lZQD0swHlWnEr1fmnC1",
      "include_colab_link": true
    },
    "kernelspec": {
      "name": "python3",
      "display_name": "Python 3"
    },
    "language_info": {
      "name": "python"
    },
    "accelerator": "GPU",
    "gpuClass": "standard"
  },
  "cells": [
    {
      "cell_type": "markdown",
      "metadata": {
        "id": "view-in-github",
        "colab_type": "text"
      },
      "source": [
        "<a href=\"https://colab.research.google.com/github/ducdonghiem/HUST/blob/main/sudoku.ipynb\" target=\"_parent\"><img src=\"https://colab.research.google.com/assets/colab-badge.svg\" alt=\"Open In Colab\"/></a>"
      ]
    },
    {
      "cell_type": "code",
      "execution_count": null,
      "metadata": {
        "id": "YWlorFV22yK0"
      },
      "outputs": [],
      "source": [
        "import numpy as np\n",
        "import tensorflow as tf\n",
        "from tensorflow import keras\n",
        "from keras import layers\n",
        "import matplotlib.pyplot as plt\n",
        "import pandas as pd\n",
        "from sklearn.model_selection import train_test_split"
      ]
    },
    {
      "cell_type": "code",
      "source": [
        "df = pd.read_csv('/content/drive/MyDrive/data/sudoku.csv/sudoku.csv')\n",
        "df.head()"
      ],
      "metadata": {
        "colab": {
          "base_uri": "https://localhost:8080/",
          "height": 270
        },
        "id": "4sg92DxD9UnX",
        "outputId": "947ba292-e272-408d-83ee-033eb6bbb927"
      },
      "execution_count": null,
      "outputs": [
        {
          "output_type": "execute_result",
          "data": {
            "text/plain": [
              "                                             quizzes  \\\n",
              "0  0043002090050090010700600430060020871900074000...   \n",
              "1  0401000501070039605200080000000000170009068008...   \n",
              "2  6001203840084590720000060050002640300700800069...   \n",
              "3  4972000001004000050000160986203000403009000000...   \n",
              "4  0059103080094030600275001000300002010008200070...   \n",
              "\n",
              "                                           solutions  \n",
              "0  8643712593258497619712658434361925871986574322...  \n",
              "1  3461792581875239645296483719658324174729168358...  \n",
              "2  6951273841384596727248369158512647392739815469...  \n",
              "3  4972583161864397252537164986293815473759641828...  \n",
              "4  4659123781894735623275681497386452919548216372...  "
            ],
            "text/html": [
              "\n",
              "  <div id=\"df-10e660db-a155-4093-95b1-ee5b5b1a4659\">\n",
              "    <div class=\"colab-df-container\">\n",
              "      <div>\n",
              "<style scoped>\n",
              "    .dataframe tbody tr th:only-of-type {\n",
              "        vertical-align: middle;\n",
              "    }\n",
              "\n",
              "    .dataframe tbody tr th {\n",
              "        vertical-align: top;\n",
              "    }\n",
              "\n",
              "    .dataframe thead th {\n",
              "        text-align: right;\n",
              "    }\n",
              "</style>\n",
              "<table border=\"1\" class=\"dataframe\">\n",
              "  <thead>\n",
              "    <tr style=\"text-align: right;\">\n",
              "      <th></th>\n",
              "      <th>quizzes</th>\n",
              "      <th>solutions</th>\n",
              "    </tr>\n",
              "  </thead>\n",
              "  <tbody>\n",
              "    <tr>\n",
              "      <th>0</th>\n",
              "      <td>0043002090050090010700600430060020871900074000...</td>\n",
              "      <td>8643712593258497619712658434361925871986574322...</td>\n",
              "    </tr>\n",
              "    <tr>\n",
              "      <th>1</th>\n",
              "      <td>0401000501070039605200080000000000170009068008...</td>\n",
              "      <td>3461792581875239645296483719658324174729168358...</td>\n",
              "    </tr>\n",
              "    <tr>\n",
              "      <th>2</th>\n",
              "      <td>6001203840084590720000060050002640300700800069...</td>\n",
              "      <td>6951273841384596727248369158512647392739815469...</td>\n",
              "    </tr>\n",
              "    <tr>\n",
              "      <th>3</th>\n",
              "      <td>4972000001004000050000160986203000403009000000...</td>\n",
              "      <td>4972583161864397252537164986293815473759641828...</td>\n",
              "    </tr>\n",
              "    <tr>\n",
              "      <th>4</th>\n",
              "      <td>0059103080094030600275001000300002010008200070...</td>\n",
              "      <td>4659123781894735623275681497386452919548216372...</td>\n",
              "    </tr>\n",
              "  </tbody>\n",
              "</table>\n",
              "</div>\n",
              "      <button class=\"colab-df-convert\" onclick=\"convertToInteractive('df-10e660db-a155-4093-95b1-ee5b5b1a4659')\"\n",
              "              title=\"Convert this dataframe to an interactive table.\"\n",
              "              style=\"display:none;\">\n",
              "        \n",
              "  <svg xmlns=\"http://www.w3.org/2000/svg\" height=\"24px\"viewBox=\"0 0 24 24\"\n",
              "       width=\"24px\">\n",
              "    <path d=\"M0 0h24v24H0V0z\" fill=\"none\"/>\n",
              "    <path d=\"M18.56 5.44l.94 2.06.94-2.06 2.06-.94-2.06-.94-.94-2.06-.94 2.06-2.06.94zm-11 1L8.5 8.5l.94-2.06 2.06-.94-2.06-.94L8.5 2.5l-.94 2.06-2.06.94zm10 10l.94 2.06.94-2.06 2.06-.94-2.06-.94-.94-2.06-.94 2.06-2.06.94z\"/><path d=\"M17.41 7.96l-1.37-1.37c-.4-.4-.92-.59-1.43-.59-.52 0-1.04.2-1.43.59L10.3 9.45l-7.72 7.72c-.78.78-.78 2.05 0 2.83L4 21.41c.39.39.9.59 1.41.59.51 0 1.02-.2 1.41-.59l7.78-7.78 2.81-2.81c.8-.78.8-2.07 0-2.86zM5.41 20L4 18.59l7.72-7.72 1.47 1.35L5.41 20z\"/>\n",
              "  </svg>\n",
              "      </button>\n",
              "      \n",
              "  <style>\n",
              "    .colab-df-container {\n",
              "      display:flex;\n",
              "      flex-wrap:wrap;\n",
              "      gap: 12px;\n",
              "    }\n",
              "\n",
              "    .colab-df-convert {\n",
              "      background-color: #E8F0FE;\n",
              "      border: none;\n",
              "      border-radius: 50%;\n",
              "      cursor: pointer;\n",
              "      display: none;\n",
              "      fill: #1967D2;\n",
              "      height: 32px;\n",
              "      padding: 0 0 0 0;\n",
              "      width: 32px;\n",
              "    }\n",
              "\n",
              "    .colab-df-convert:hover {\n",
              "      background-color: #E2EBFA;\n",
              "      box-shadow: 0px 1px 2px rgba(60, 64, 67, 0.3), 0px 1px 3px 1px rgba(60, 64, 67, 0.15);\n",
              "      fill: #174EA6;\n",
              "    }\n",
              "\n",
              "    [theme=dark] .colab-df-convert {\n",
              "      background-color: #3B4455;\n",
              "      fill: #D2E3FC;\n",
              "    }\n",
              "\n",
              "    [theme=dark] .colab-df-convert:hover {\n",
              "      background-color: #434B5C;\n",
              "      box-shadow: 0px 1px 3px 1px rgba(0, 0, 0, 0.15);\n",
              "      filter: drop-shadow(0px 1px 2px rgba(0, 0, 0, 0.3));\n",
              "      fill: #FFFFFF;\n",
              "    }\n",
              "  </style>\n",
              "\n",
              "      <script>\n",
              "        const buttonEl =\n",
              "          document.querySelector('#df-10e660db-a155-4093-95b1-ee5b5b1a4659 button.colab-df-convert');\n",
              "        buttonEl.style.display =\n",
              "          google.colab.kernel.accessAllowed ? 'block' : 'none';\n",
              "\n",
              "        async function convertToInteractive(key) {\n",
              "          const element = document.querySelector('#df-10e660db-a155-4093-95b1-ee5b5b1a4659');\n",
              "          const dataTable =\n",
              "            await google.colab.kernel.invokeFunction('convertToInteractive',\n",
              "                                                     [key], {});\n",
              "          if (!dataTable) return;\n",
              "\n",
              "          const docLinkHtml = 'Like what you see? Visit the ' +\n",
              "            '<a target=\"_blank\" href=https://colab.research.google.com/notebooks/data_table.ipynb>data table notebook</a>'\n",
              "            + ' to learn more about interactive tables.';\n",
              "          element.innerHTML = '';\n",
              "          dataTable['output_type'] = 'display_data';\n",
              "          await google.colab.output.renderOutput(dataTable, element);\n",
              "          const docLink = document.createElement('div');\n",
              "          docLink.innerHTML = docLinkHtml;\n",
              "          element.appendChild(docLink);\n",
              "        }\n",
              "      </script>\n",
              "    </div>\n",
              "  </div>\n",
              "  "
            ]
          },
          "metadata": {},
          "execution_count": 6
        }
      ]
    },
    {
      "cell_type": "code",
      "source": [
        "!nvidia-smi"
      ],
      "metadata": {
        "colab": {
          "base_uri": "https://localhost:8080/"
        },
        "id": "Aea4CjhwBZj7",
        "outputId": "1cd07eca-5fab-48f6-dc7f-2882e1951c22"
      },
      "execution_count": null,
      "outputs": [
        {
          "output_type": "stream",
          "name": "stdout",
          "text": [
            "Mon Jan  2 15:15:18 2023       \n",
            "+-----------------------------------------------------------------------------+\n",
            "| NVIDIA-SMI 460.32.03    Driver Version: 460.32.03    CUDA Version: 11.2     |\n",
            "|-------------------------------+----------------------+----------------------+\n",
            "| GPU  Name        Persistence-M| Bus-Id        Disp.A | Volatile Uncorr. ECC |\n",
            "| Fan  Temp  Perf  Pwr:Usage/Cap|         Memory-Usage | GPU-Util  Compute M. |\n",
            "|                               |                      |               MIG M. |\n",
            "|===============================+======================+======================|\n",
            "|   0  Tesla T4            Off  | 00000000:00:04.0 Off |                    0 |\n",
            "| N/A   50C    P0    27W /  70W |      0MiB / 15109MiB |      0%      Default |\n",
            "|                               |                      |                  N/A |\n",
            "+-------------------------------+----------------------+----------------------+\n",
            "                                                                               \n",
            "+-----------------------------------------------------------------------------+\n",
            "| Processes:                                                                  |\n",
            "|  GPU   GI   CI        PID   Type   Process name                  GPU Memory |\n",
            "|        ID   ID                                                   Usage      |\n",
            "|=============================================================================|\n",
            "|  No running processes found                                                 |\n",
            "+-----------------------------------------------------------------------------+\n"
          ]
        }
      ]
    },
    {
      "cell_type": "code",
      "source": [
        "!pip install tensorflow gpu"
      ],
      "metadata": {
        "colab": {
          "base_uri": "https://localhost:8080/"
        },
        "id": "0ABE5qwVBfw7",
        "outputId": "804e1f57-16dd-43e4-b1b6-2d8e027afce5"
      },
      "execution_count": null,
      "outputs": [
        {
          "output_type": "stream",
          "name": "stdout",
          "text": [
            "Looking in indexes: https://pypi.org/simple, https://us-python.pkg.dev/colab-wheels/public/simple/\n",
            "Requirement already satisfied: tensorflow in /usr/local/lib/python3.8/dist-packages (2.9.2)\n",
            "\u001b[31mERROR: Could not find a version that satisfies the requirement gpu (from versions: none)\u001b[0m\n",
            "\u001b[31mERROR: No matching distribution found for gpu\u001b[0m\n"
          ]
        }
      ]
    },
    {
      "cell_type": "code",
      "source": [
        "df.shape"
      ],
      "metadata": {
        "colab": {
          "base_uri": "https://localhost:8080/"
        },
        "id": "s5UwUziYC1xS",
        "outputId": "81fa073e-a8d3-44fe-84c9-ef21d89bd40d"
      },
      "execution_count": 13,
      "outputs": [
        {
          "output_type": "execute_result",
          "data": {
            "text/plain": [
              "(1000000, 2)"
            ]
          },
          "metadata": {},
          "execution_count": 13
        }
      ]
    },
    {
      "cell_type": "code",
      "source": [
        "x, y = [np.array([int(j) for j in i]) for i in list(df['quizzes'])], [np.array([int(j) for j in i]) for i in list(df['solutions'])]\n",
        "x, y = np.array(x), np.array(y)\n",
        "\n",
        "print(x[0], y[0])\n",
        "print(x.shape, type(x))\n",
        "print(y.shape, type(y))"
      ],
      "metadata": {
        "colab": {
          "base_uri": "https://localhost:8080/"
        },
        "id": "WsMRHEwXDJBS",
        "outputId": "88444f3d-5541-4557-e0e2-d944d37e5098"
      },
      "execution_count": null,
      "outputs": [
        {
          "output_type": "stream",
          "name": "stdout",
          "text": [
            "[0 0 4 3 0 0 2 0 9 0 0 5 0 0 9 0 0 1 0 7 0 0 6 0 0 4 3 0 0 6 0 0 2 0 8 7 1\n",
            " 9 0 0 0 7 4 0 0 0 5 0 0 8 3 0 0 0 6 0 0 0 0 0 1 0 5 0 0 3 5 0 8 6 9 0 0 4\n",
            " 2 9 1 0 3 0 0] [8 6 4 3 7 1 2 5 9 3 2 5 8 4 9 7 6 1 9 7 1 2 6 5 8 4 3 4 3 6 1 9 2 5 8 7 1\n",
            " 9 8 6 5 7 4 3 2 2 5 7 4 8 3 9 1 6 6 8 9 7 3 4 1 2 5 7 1 3 5 2 8 6 9 4 5 4\n",
            " 2 9 1 6 3 7 8]\n",
            "(1000000, 81) <class 'numpy.ndarray'>\n",
            "(1000000, 81) <class 'numpy.ndarray'>\n"
          ]
        }
      ]
    },
    {
      "cell_type": "code",
      "source": [
        "x = x.reshape(-1, 9, 9, 1)\n",
        "y = y.reshape(-1, 9, 9) - 1"
      ],
      "metadata": {
        "id": "JTos2XYLDkt1"
      },
      "execution_count": null,
      "outputs": []
    },
    {
      "cell_type": "code",
      "source": [
        "x_train, x_test, y_train, y_test = train_test_split(x, y, test_size = 0.2)\n",
        "print(x_train.shape, y_train.shape, x_test.shape, y_test.shape)"
      ],
      "metadata": {
        "colab": {
          "base_uri": "https://localhost:8080/"
        },
        "id": "W23OP4_xEIwo",
        "outputId": "1b82ab38-8581-4cc2-a211-8137d3d0f629"
      },
      "execution_count": null,
      "outputs": [
        {
          "output_type": "stream",
          "name": "stdout",
          "text": [
            "(800000, 9, 9, 1) (800000, 9, 9) (200000, 9, 9, 1) (200000, 9, 9)\n"
          ]
        }
      ]
    },
    {
      "cell_type": "code",
      "source": [
        "model = keras.Sequential([\n",
        "    layers.Conv2D(128, 3, activation = 'relu', padding = 'same', input_shape = (9 , 9 ,1)),\n",
        "    layers.BatchNormalization(),\n",
        "    layers.Conv2D(128, 3, activation = 'relu', padding = 'same'),\n",
        "    layers.BatchNormalization(),\n",
        "    layers.Conv2D(256, 3, activation = 'relu', padding = 'same'),\n",
        "    layers.BatchNormalization(),\n",
        "    layers.Conv2D(256, 3, activation = 'relu', padding = 'same'),\n",
        "    layers.BatchNormalization(),\n",
        "    layers.Conv2D(512, 3, activation = 'relu', padding = 'same'),\n",
        "    layers.BatchNormalization(),\n",
        "    layers.Conv2D(512, 3, activation = 'relu', padding = 'same'),\n",
        "    layers.BatchNormalization(),\n",
        "    layers.Conv2D(1024, 3, activation = 'relu', padding = 'same'),\n",
        "    layers.BatchNormalization(),\n",
        "    layers.Conv2D(9, 1, activation = 'relu', padding = 'same'),\n",
        "    layers.Flatten(),\n",
        "    layers.Dense(512),\n",
        "    layers.Dense(81*9),\n",
        "    layers.LayerNormalization(axis = -1),\n",
        "    layers.Reshape((9, 9, 9)),\n",
        "    layers.Activation('softmax')\n",
        "])\n",
        "model.summary()"
      ],
      "metadata": {
        "id": "arBrZxt5EO9r",
        "colab": {
          "base_uri": "https://localhost:8080/"
        },
        "outputId": "0500a9a0-5286-45ab-eaca-ffc6f34ee69e"
      },
      "execution_count": 17,
      "outputs": [
        {
          "output_type": "stream",
          "name": "stdout",
          "text": [
            "Model: \"sequential_2\"\n",
            "_________________________________________________________________\n",
            " Layer (type)                Output Shape              Param #   \n",
            "=================================================================\n",
            " conv2d_14 (Conv2D)          (None, 9, 9, 128)         1280      \n",
            "                                                                 \n",
            " batch_normalization_13 (Bat  (None, 9, 9, 128)        512       \n",
            " chNormalization)                                                \n",
            "                                                                 \n",
            " conv2d_15 (Conv2D)          (None, 9, 9, 128)         147584    \n",
            "                                                                 \n",
            " batch_normalization_14 (Bat  (None, 9, 9, 128)        512       \n",
            " chNormalization)                                                \n",
            "                                                                 \n",
            " conv2d_16 (Conv2D)          (None, 9, 9, 256)         295168    \n",
            "                                                                 \n",
            " batch_normalization_15 (Bat  (None, 9, 9, 256)        1024      \n",
            " chNormalization)                                                \n",
            "                                                                 \n",
            " conv2d_17 (Conv2D)          (None, 9, 9, 256)         590080    \n",
            "                                                                 \n",
            " batch_normalization_16 (Bat  (None, 9, 9, 256)        1024      \n",
            " chNormalization)                                                \n",
            "                                                                 \n",
            " conv2d_18 (Conv2D)          (None, 9, 9, 512)         1180160   \n",
            "                                                                 \n",
            " batch_normalization_17 (Bat  (None, 9, 9, 512)        2048      \n",
            " chNormalization)                                                \n",
            "                                                                 \n",
            " conv2d_19 (Conv2D)          (None, 9, 9, 512)         2359808   \n",
            "                                                                 \n",
            " batch_normalization_18 (Bat  (None, 9, 9, 512)        2048      \n",
            " chNormalization)                                                \n",
            "                                                                 \n",
            " conv2d_20 (Conv2D)          (None, 9, 9, 1024)        4719616   \n",
            "                                                                 \n",
            " batch_normalization_19 (Bat  (None, 9, 9, 1024)       4096      \n",
            " chNormalization)                                                \n",
            "                                                                 \n",
            " conv2d_21 (Conv2D)          (None, 9, 9, 9)           9225      \n",
            "                                                                 \n",
            " flatten_1 (Flatten)         (None, 729)               0         \n",
            "                                                                 \n",
            " dense_2 (Dense)             (None, 512)               373760    \n",
            "                                                                 \n",
            " dense_3 (Dense)             (None, 729)               373977    \n",
            "                                                                 \n",
            " layer_normalization_1 (Laye  (None, 729)              1458      \n",
            " rNormalization)                                                 \n",
            "                                                                 \n",
            " reshape_1 (Reshape)         (None, 9, 9, 9)           0         \n",
            "                                                                 \n",
            " activation_1 (Activation)   (None, 9, 9, 9)           0         \n",
            "                                                                 \n",
            "=================================================================\n",
            "Total params: 10,063,380\n",
            "Trainable params: 10,057,748\n",
            "Non-trainable params: 5,632\n",
            "_________________________________________________________________\n"
          ]
        }
      ]
    },
    {
      "cell_type": "code",
      "source": [
        "model.compile(optimizer = 'adam', loss = 'sparse_categorical_crossentropy', metrics = ['accuracy'])\n",
        "callback = tf.keras.callbacks.EarlyStopping(monitor='val_loss', patience=3)\n",
        "history = model.fit(x_train, y_train, validation_data = (x_test, y_test), batch_size = 64, epochs = 100, callbacks=[callback], verbose = 2)"
      ],
      "metadata": {
        "colab": {
          "base_uri": "https://localhost:8080/"
        },
        "id": "dZDm9hlDJFGq",
        "outputId": "5cd6c4ea-7a9b-4cd3-c3e0-4438d3377bb8"
      },
      "execution_count": 18,
      "outputs": [
        {
          "output_type": "stream",
          "name": "stdout",
          "text": [
            "Epoch 1/100\n",
            "12500/12500 - 725s - loss: 0.5814 - accuracy: 0.7897 - val_loss: 0.2721 - val_accuracy: 0.9008 - 725s/epoch - 58ms/step\n",
            "Epoch 2/100\n",
            "12500/12500 - 717s - loss: 0.2144 - accuracy: 0.9224 - val_loss: 0.1818 - val_accuracy: 0.9344 - 717s/epoch - 57ms/step\n",
            "Epoch 3/100\n",
            "12500/12500 - 716s - loss: 0.1551 - accuracy: 0.9442 - val_loss: 0.1473 - val_accuracy: 0.9470 - 716s/epoch - 57ms/step\n",
            "Epoch 4/100\n",
            "12500/12500 - 715s - loss: 0.1275 - accuracy: 0.9542 - val_loss: 0.1306 - val_accuracy: 0.9531 - 715s/epoch - 57ms/step\n",
            "Epoch 5/100\n",
            "12500/12500 - 742s - loss: 0.1102 - accuracy: 0.9604 - val_loss: 0.1202 - val_accuracy: 0.9570 - 742s/epoch - 59ms/step\n",
            "Epoch 6/100\n",
            "12500/12500 - 742s - loss: 0.0976 - accuracy: 0.9649 - val_loss: 0.1138 - val_accuracy: 0.9593 - 742s/epoch - 59ms/step\n",
            "Epoch 7/100\n",
            "12500/12500 - 714s - loss: 0.0874 - accuracy: 0.9685 - val_loss: 0.1112 - val_accuracy: 0.9605 - 714s/epoch - 57ms/step\n",
            "Epoch 8/100\n",
            "12500/12500 - 742s - loss: 0.0790 - accuracy: 0.9716 - val_loss: 0.1091 - val_accuracy: 0.9617 - 742s/epoch - 59ms/step\n",
            "Epoch 9/100\n",
            "12500/12500 - 713s - loss: 0.0717 - accuracy: 0.9742 - val_loss: 0.1085 - val_accuracy: 0.9622 - 713s/epoch - 57ms/step\n",
            "Epoch 10/100\n",
            "12500/12500 - 749s - loss: 0.0652 - accuracy: 0.9765 - val_loss: 0.1091 - val_accuracy: 0.9626 - 749s/epoch - 60ms/step\n",
            "Epoch 11/100\n",
            "12500/12500 - 744s - loss: 0.0593 - accuracy: 0.9786 - val_loss: 0.1103 - val_accuracy: 0.9627 - 744s/epoch - 59ms/step\n",
            "Epoch 12/100\n",
            "12500/12500 - 742s - loss: 0.0540 - accuracy: 0.9805 - val_loss: 0.1124 - val_accuracy: 0.9626 - 742s/epoch - 59ms/step\n"
          ]
        }
      ]
    },
    {
      "cell_type": "code",
      "source": [
        "plt.plot(history.history['loss'], label = 'loss')\n",
        "plt.plot(history.history['val_loss'], label = 'val_loss')\n",
        "plt.xlabel('epochs')\n",
        "plt.ylabel('loss')\n",
        "plt.legend()"
      ],
      "metadata": {
        "colab": {
          "base_uri": "https://localhost:8080/",
          "height": 297
        },
        "id": "_5oks2o0KE3D",
        "outputId": "0d352096-2b08-4158-ab28-7b0b52957e74"
      },
      "execution_count": 19,
      "outputs": [
        {
          "output_type": "execute_result",
          "data": {
            "text/plain": [
              "<matplotlib.legend.Legend at 0x7fe814664910>"
            ]
          },
          "metadata": {},
          "execution_count": 19
        },
        {
          "output_type": "display_data",
          "data": {
            "text/plain": [
              "<Figure size 432x288 with 1 Axes>"
            ],
            "image/png": "[encoded data removed]"
          },
          "metadata": {
            "needs_background": "light"
          }
        }
      ]
    },
    {
      "cell_type": "code",
      "source": [
        "plt.plot(history.history['accuracy'], label = 'accuracy')\n",
        "plt.plot(history.history['val_accuracy'], label = 'val_accuracy')\n",
        "plt.xlabel('epochs')\n",
        "plt.ylabel('accuracy')\n",
        "plt.legend()"
      ],
      "metadata": {
        "colab": {
          "base_uri": "https://localhost:8080/",
          "height": 296
        },
        "id": "Cm2oQsovkon9",
        "outputId": "616e219f-cc15-4b2a-ae75-d1def66f002f"
      },
      "execution_count": 20,
      "outputs": [
        {
          "output_type": "execute_result",
          "data": {
            "text/plain": [
              "<matplotlib.legend.Legend at 0x7fe81410c7c0>"
            ]
          },
          "metadata": {},
          "execution_count": 20
        },
        {
          "output_type": "display_data",
          "data": {
            "text/plain": [
              "<Figure size 432x288 with 1 Axes>"
            ],
            "image/png": "[encoded data removed]"
          },
          "metadata": {
            "needs_background": "light"
          }
        }
      ]
    },
    {
      "cell_type": "code",
      "source": [
        "test_puzzle = np.array([\n",
        "       [0, 0, 0, 0, 7, 9, 5, 0, 6],\n",
        "       [8, 0, 0, 0, 3, 5, 9, 0, 1],\n",
        "       [0, 4, 0, 0, 6, 0, 7, 3, 0],\n",
        "       [1, 0, 0, 5, 0, 0, 6, 0, 0],\n",
        "       [0, 3, 9, 0, 2, 0, 0, 0, 4],\n",
        "       [0, 8, 6, 0, 4, 0, 0, 9, 0],\n",
        "       [0, 0, 1, 2, 0, 0, 0, 8, 0],\n",
        "       [4, 7, 0, 0, 0, 0, 3, 5, 0],\n",
        "       [0, 0, 2, 7, 8, 0, 0, 0, 0]])\n",
        "solution = np.array([\n",
        "       [2, 1, 3, 8, 7, 9, 5, 4, 6],\n",
        "       [8, 6, 7, 4, 3, 5, 9, 2, 1],\n",
        "       [9, 4, 5, 1, 6, 2, 7, 3, 8],\n",
        "       [1, 2, 4, 5, 9, 8, 6, 7, 3],\n",
        "       [5, 3, 9, 6, 2, 7, 8, 1, 4],\n",
        "       [7, 8, 6, 3, 4, 7, 2, 9, 5],\n",
        "       [6, 9, 1, 2, 5, 3, 4, 8, 7],\n",
        "       [4, 7, 8, 9, 1, 6, 3, 5, 2],\n",
        "       [3, 5, 2, 7, 8, 4, 1, 6, 9]])"
      ],
      "metadata": {
        "id": "fSV8pgn9i6ym"
      },
      "execution_count": 28,
      "outputs": []
    },
    {
      "cell_type": "code",
      "source": [
        "predict = model.predict(test_puzzle.reshape(1,9, 9, 1)).argmax(axis = -1).squeeze() + 1\n",
        "predict"
      ],
      "metadata": {
        "colab": {
          "base_uri": "https://localhost:8080/"
        },
        "id": "iSCi_tnzlAvj",
        "outputId": "f6448435-f1ff-4085-bb83-fbce45585d97"
      },
      "execution_count": 29,
      "outputs": [
        {
          "output_type": "stream",
          "name": "stdout",
          "text": [
            "1/1 [==============================] - 0s 16ms/step\n"
          ]
        },
        {
          "output_type": "execute_result",
          "data": {
            "text/plain": [
              "array([[2, 1, 3, 4, 7, 9, 5, 4, 6],\n",
              "       [8, 6, 7, 4, 3, 5, 9, 2, 1],\n",
              "       [9, 4, 5, 1, 6, 2, 7, 3, 8],\n",
              "       [1, 2, 4, 5, 9, 8, 6, 7, 3],\n",
              "       [5, 3, 9, 6, 2, 6, 8, 1, 4],\n",
              "       [7, 8, 6, 3, 4, 7, 2, 9, 5],\n",
              "       [6, 9, 1, 2, 5, 3, 4, 8, 7],\n",
              "       [4, 7, 8, 9, 1, 6, 3, 5, 2],\n",
              "       [3, 5, 2, 7, 8, 4, 1, 6, 9]])"
            ]
          },
          "metadata": {},
          "execution_count": 29
        }
      ]
    },
    {
      "cell_type": "code",
      "source": [
        "print(solution - predict)"
      ],
      "metadata": {
        "colab": {
          "base_uri": "https://localhost:8080/"
        },
        "id": "aWkEP5_elqjE",
        "outputId": "ef38c0ee-391f-4bcf-abd9-06a8e97808eb"
      },
      "execution_count": 30,
      "outputs": [
        {
          "output_type": "stream",
          "name": "stdout",
          "text": [
            "[[0 0 0 4 0 0 0 0 0]\n",
            " [0 0 0 0 0 0 0 0 0]\n",
            " [0 0 0 0 0 0 0 0 0]\n",
            " [0 0 0 0 0 0 0 0 0]\n",
            " [0 0 0 0 0 1 0 0 0]\n",
            " [0 0 0 0 0 0 0 0 0]\n",
            " [0 0 0 0 0 0 0 0 0]\n",
            " [0 0 0 0 0 0 0 0 0]\n",
            " [0 0 0 0 0 0 0 0 0]]\n"
          ]
        }
      ]
    },
    {
      "cell_type": "code",
      "source": [
        "model.save('/content/drive/MyDrive/saved_models/sudoku.hdf5')"
      ],
      "metadata": {
        "id": "tfAMQQMooB0k"
      },
      "execution_count": 31,
      "outputs": []
    },
    {
      "cell_type": "code",
      "source": [],
      "metadata": {
        "id": "zjCAtPyatb1i"
      },
      "execution_count": null,
      "outputs": []
    }
  ]
}